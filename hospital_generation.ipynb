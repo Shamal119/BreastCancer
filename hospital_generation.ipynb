{
 "cells": [
  {
   "cell_type": "code",
   "execution_count": 2,
   "metadata": {},
   "outputs": [
    {
     "name": "stdout",
     "output_type": "stream",
     "text": [
      "Hospital database generated and saved to 'hospital_database.csv'.\n"
     ]
    }
   ],
   "source": [
    "import pandas as pd\n",
    "import numpy as np\n",
    "import random\n",
    "\n",
    "# Define the number of hospitals\n",
    "num_hospitals = 10\n",
    "\n",
    "# Define lists of sample data for each column\n",
    "hospital_names = ['Hospital A', 'Hospital B', 'Hospital C', 'Hospital D', 'Hospital E']\n",
    "locations = ['New York', 'Los Angeles', 'Chicago', 'Miami', 'San Francisco']\n",
    "specializations = ['Cancer Treatment', 'General Healthcare', 'Pediatrics', 'Cardiology', 'Orthopedics']\n",
    "contact_info = ['123-456-7890', '456-789-0123', '789-012-3456', '012-345-6789', '345-678-9012']\n",
    "\n",
    "# Generate data for hospitals specializing in cancer treatment\n",
    "cancer_treatment_hospitals = random.sample(hospital_names, k=random.randint(2, 3))\n",
    "\n",
    "# Generate data for other hospitals\n",
    "other_hospitals = [name for name in hospital_names if name not in cancer_treatment_hospitals]\n",
    "\n",
    "# Generate random data for each hospital\n",
    "hospital_data = []\n",
    "for hospital_name in hospital_names:\n",
    "    if hospital_name in cancer_treatment_hospitals:\n",
    "        specialization = 'Cancer Treatment'\n",
    "    else:\n",
    "        specialization = random.choice(specializations)\n",
    "    \n",
    "    location = random.choice(locations)\n",
    "    contact = random.choice(contact_info)\n",
    "    hospital_data.append([hospital_name, location, specialization, contact])\n",
    "\n",
    "# Create a DataFrame from the generated data\n",
    "hospital_df = pd.DataFrame(hospital_data, columns=['Hospital Name', 'Location', 'Specialization', 'Contact Information'])\n",
    "\n",
    "# Save the DataFrame to a CSV file\n",
    "hospital_df.to_csv('hospital_database.csv', index=False)\n",
    "\n",
    "print(\"Hospital database generated and saved to 'hospital_database.csv'.\")\n"
   ]
  },
  {
   "cell_type": "code",
   "execution_count": null,
   "metadata": {},
   "outputs": [],
   "source": []
  }
 ],
 "metadata": {
  "kernelspec": {
   "display_name": "Python 3",
   "language": "python",
   "name": "python3"
  },
  "language_info": {
   "codemirror_mode": {
    "name": "ipython",
    "version": 3
   },
   "file_extension": ".py",
   "mimetype": "text/x-python",
   "name": "python",
   "nbconvert_exporter": "python",
   "pygments_lexer": "ipython3",
   "version": "3.11.1"
  }
 },
 "nbformat": 4,
 "nbformat_minor": 2
}
