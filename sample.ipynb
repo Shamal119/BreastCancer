{
 "cells": [
  {
   "cell_type": "code",
   "execution_count": 17,
   "metadata": {},
   "outputs": [],
   "source": [
    "model1.save(\"image_classifier_model1.h5\")"
   ]
  },
  {
   "cell_type": "code",
   "execution_count": 18,
   "metadata": {},
   "outputs": [],
   "source": [
    "# Learning Rate Reducer\n",
    "from keras.callbacks import Callback, ModelCheckpoint, ReduceLROnPlateau, TensorBoard\n",
    "learn_control = ReduceLROnPlateau(monitor='val_acc', patience=5,\n",
    "                                  verbose=1,factor=0.2, min_lr=1e-7)\n",
    "\n",
    "# Checkpoint\n",
    "filepath=\"weights.best.hdf5\"\n",
    "checkpoint = ModelCheckpoint(filepath, monitor='val_acc', verbose=1, save_best_only=True, mode='max')"
   ]
  },
  {
   "cell_type": "code",
   "execution_count": 19,
   "metadata": {},
   "outputs": [
    {
     "name": "stdout",
     "output_type": "stream",
     "text": [
      "Epoch 1/20\n"
     ]
    },
    {
     "name": "stderr",
     "output_type": "stream",
     "text": [
      "C:\\Users\\ShamalMustafa\\AppData\\Local\\Temp\\ipykernel_16104\\1109159810.py:1: UserWarning: `Model.fit_generator` is deprecated and will be removed in a future version. Please use `Model.fit`, which supports generators.\n",
      "  history = model.fit_generator(\n"
     ]
    },
    {
     "name": "stdout",
     "output_type": "stream",
     "text": [
      "32/32 [==============================] - ETA: 0s - loss: 18.8788 - accuracy: 0.5020WARNING:tensorflow:Learning rate reduction is conditioned on metric `val_acc` which is not available. Available metrics are: loss,accuracy,val_loss,val_accuracy,lr\n",
      "WARNING:tensorflow:Can save best model only with val_acc available, skipping.\n",
      "32/32 [==============================] - 21s 647ms/step - loss: 18.8788 - accuracy: 0.5020 - val_loss: 0.6639 - val_accuracy: 0.6094 - lr: 0.0010\n",
      "Epoch 2/20\n",
      "32/32 [==============================] - ETA: 0s - loss: 1.1706 - accuracy: 0.4746WARNING:tensorflow:Learning rate reduction is conditioned on metric `val_acc` which is not available. Available metrics are: loss,accuracy,val_loss,val_accuracy,lr\n",
      "WARNING:tensorflow:Can save best model only with val_acc available, skipping.\n",
      "32/32 [==============================] - 21s 648ms/step - loss: 1.1706 - accuracy: 0.4746 - val_loss: 0.6563 - val_accuracy: 0.5156 - lr: 0.0010\n",
      "Epoch 3/20\n",
      "32/32 [==============================] - ETA: 0s - loss: 1.1269 - accuracy: 0.4844WARNING:tensorflow:Learning rate reduction is conditioned on metric `val_acc` which is not available. Available metrics are: loss,accuracy,val_loss,val_accuracy,lr\n",
      "WARNING:tensorflow:Can save best model only with val_acc available, skipping.\n",
      "32/32 [==============================] - 18s 573ms/step - loss: 1.1269 - accuracy: 0.4844 - val_loss: 0.6810 - val_accuracy: 0.5859 - lr: 0.0010\n",
      "Epoch 4/20\n",
      "32/32 [==============================] - ETA: 0s - loss: 0.6918 - accuracy: 0.5156WARNING:tensorflow:Learning rate reduction is conditioned on metric `val_acc` which is not available. Available metrics are: loss,accuracy,val_loss,val_accuracy,lr\n",
      "WARNING:tensorflow:Can save best model only with val_acc available, skipping.\n",
      "32/32 [==============================] - 18s 558ms/step - loss: 0.6918 - accuracy: 0.5156 - val_loss: 0.6803 - val_accuracy: 0.6094 - lr: 0.0010\n",
      "Epoch 5/20\n",
      "32/32 [==============================] - ETA: 0s - loss: 0.6958 - accuracy: 0.4863WARNING:tensorflow:Learning rate reduction is conditioned on metric `val_acc` which is not available. Available metrics are: loss,accuracy,val_loss,val_accuracy,lr\n",
      "WARNING:tensorflow:Can save best model only with val_acc available, skipping.\n",
      "32/32 [==============================] - 18s 574ms/step - loss: 0.6958 - accuracy: 0.4863 - val_loss: 0.6810 - val_accuracy: 0.5859 - lr: 0.0010\n",
      "Epoch 6/20\n",
      "32/32 [==============================] - ETA: 0s - loss: 0.7037 - accuracy: 0.4863WARNING:tensorflow:Learning rate reduction is conditioned on metric `val_acc` which is not available. Available metrics are: loss,accuracy,val_loss,val_accuracy,lr\n",
      "WARNING:tensorflow:Can save best model only with val_acc available, skipping.\n",
      "32/32 [==============================] - 18s 572ms/step - loss: 0.7037 - accuracy: 0.4863 - val_loss: 0.6887 - val_accuracy: 0.5547 - lr: 0.0010\n",
      "Epoch 7/20\n",
      "32/32 [==============================] - ETA: 0s - loss: 0.7039 - accuracy: 0.4883WARNING:tensorflow:Learning rate reduction is conditioned on metric `val_acc` which is not available. Available metrics are: loss,accuracy,val_loss,val_accuracy,lr\n",
      "WARNING:tensorflow:Can save best model only with val_acc available, skipping.\n",
      "32/32 [==============================] - 18s 566ms/step - loss: 0.7039 - accuracy: 0.4883 - val_loss: 0.6871 - val_accuracy: 0.5625 - lr: 0.0010\n",
      "Epoch 8/20\n",
      "32/32 [==============================] - ETA: 0s - loss: 0.8358 - accuracy: 0.4824WARNING:tensorflow:Learning rate reduction is conditioned on metric `val_acc` which is not available. Available metrics are: loss,accuracy,val_loss,val_accuracy,lr\n",
      "WARNING:tensorflow:Can save best model only with val_acc available, skipping.\n",
      "32/32 [==============================] - 18s 554ms/step - loss: 0.8358 - accuracy: 0.4824 - val_loss: 0.6876 - val_accuracy: 0.5625 - lr: 0.0010\n",
      "Epoch 9/20\n",
      "32/32 [==============================] - ETA: 0s - loss: 0.6917 - accuracy: 0.4844WARNING:tensorflow:Learning rate reduction is conditioned on metric `val_acc` which is not available. Available metrics are: loss,accuracy,val_loss,val_accuracy,lr\n",
      "WARNING:tensorflow:Can save best model only with val_acc available, skipping.\n",
      "32/32 [==============================] - 18s 556ms/step - loss: 0.6917 - accuracy: 0.4844 - val_loss: 0.6879 - val_accuracy: 0.5625 - lr: 0.0010\n",
      "Epoch 10/20\n",
      "32/32 [==============================] - ETA: 0s - loss: 0.7537 - accuracy: 0.4844WARNING:tensorflow:Learning rate reduction is conditioned on metric `val_acc` which is not available. Available metrics are: loss,accuracy,val_loss,val_accuracy,lr\n",
      "WARNING:tensorflow:Can save best model only with val_acc available, skipping.\n",
      "32/32 [==============================] - 18s 561ms/step - loss: 0.7537 - accuracy: 0.4844 - val_loss: 0.6889 - val_accuracy: 0.4531 - lr: 0.0010\n",
      "Epoch 11/20\n",
      "32/32 [==============================] - ETA: 0s - loss: 0.7129 - accuracy: 0.5215WARNING:tensorflow:Learning rate reduction is conditioned on metric `val_acc` which is not available. Available metrics are: loss,accuracy,val_loss,val_accuracy,lr\n",
      "WARNING:tensorflow:Can save best model only with val_acc available, skipping.\n",
      "32/32 [==============================] - 18s 562ms/step - loss: 0.7129 - accuracy: 0.5215 - val_loss: 0.6902 - val_accuracy: 0.4453 - lr: 0.0010\n",
      "Epoch 12/20\n",
      "32/32 [==============================] - ETA: 0s - loss: 0.7219 - accuracy: 0.5254WARNING:tensorflow:Learning rate reduction is conditioned on metric `val_acc` which is not available. Available metrics are: loss,accuracy,val_loss,val_accuracy,lr\n",
      "WARNING:tensorflow:Can save best model only with val_acc available, skipping.\n",
      "32/32 [==============================] - 18s 565ms/step - loss: 0.7219 - accuracy: 0.5254 - val_loss: 0.6905 - val_accuracy: 0.4453 - lr: 0.0010\n",
      "Epoch 13/20\n",
      "32/32 [==============================] - ETA: 0s - loss: 0.6917 - accuracy: 0.5234WARNING:tensorflow:Learning rate reduction is conditioned on metric `val_acc` which is not available. Available metrics are: loss,accuracy,val_loss,val_accuracy,lr\n",
      "WARNING:tensorflow:Can save best model only with val_acc available, skipping.\n",
      "32/32 [==============================] - 18s 562ms/step - loss: 0.6917 - accuracy: 0.5234 - val_loss: 0.7152 - val_accuracy: 0.4141 - lr: 0.0010\n",
      "Epoch 14/20\n",
      "32/32 [==============================] - ETA: 0s - loss: 0.6944 - accuracy: 0.5117WARNING:tensorflow:Learning rate reduction is conditioned on metric `val_acc` which is not available. Available metrics are: loss,accuracy,val_loss,val_accuracy,lr\n",
      "WARNING:tensorflow:Can save best model only with val_acc available, skipping.\n",
      "32/32 [==============================] - 18s 555ms/step - loss: 0.6944 - accuracy: 0.5117 - val_loss: 0.6909 - val_accuracy: 0.4453 - lr: 0.0010\n",
      "Epoch 15/20\n",
      "32/32 [==============================] - ETA: 0s - loss: 0.7861 - accuracy: 0.5215WARNING:tensorflow:Learning rate reduction is conditioned on metric `val_acc` which is not available. Available metrics are: loss,accuracy,val_loss,val_accuracy,lr\n",
      "WARNING:tensorflow:Can save best model only with val_acc available, skipping.\n",
      "32/32 [==============================] - 18s 566ms/step - loss: 0.7861 - accuracy: 0.5215 - val_loss: 0.6911 - val_accuracy: 0.4453 - lr: 0.0010\n",
      "Epoch 16/20\n",
      "32/32 [==============================] - ETA: 0s - loss: 0.6912 - accuracy: 0.5234WARNING:tensorflow:Learning rate reduction is conditioned on metric `val_acc` which is not available. Available metrics are: loss,accuracy,val_loss,val_accuracy,lr\n",
      "WARNING:tensorflow:Can save best model only with val_acc available, skipping.\n",
      "32/32 [==============================] - 18s 557ms/step - loss: 0.6912 - accuracy: 0.5234 - val_loss: 0.6950 - val_accuracy: 0.4375 - lr: 0.0010\n",
      "Epoch 17/20\n",
      "32/32 [==============================] - ETA: 0s - loss: 0.7111 - accuracy: 0.5195WARNING:tensorflow:Learning rate reduction is conditioned on metric `val_acc` which is not available. Available metrics are: loss,accuracy,val_loss,val_accuracy,lr\n",
      "WARNING:tensorflow:Can save best model only with val_acc available, skipping.\n",
      "32/32 [==============================] - 18s 559ms/step - loss: 0.7111 - accuracy: 0.5195 - val_loss: 0.6954 - val_accuracy: 0.4375 - lr: 0.0010\n",
      "Epoch 18/20\n",
      "32/32 [==============================] - ETA: 0s - loss: 0.6889 - accuracy: 0.5273WARNING:tensorflow:Learning rate reduction is conditioned on metric `val_acc` which is not available. Available metrics are: loss,accuracy,val_loss,val_accuracy,lr\n",
      "WARNING:tensorflow:Can save best model only with val_acc available, skipping.\n",
      "32/32 [==============================] - 23s 712ms/step - loss: 0.6889 - accuracy: 0.5273 - val_loss: 0.6955 - val_accuracy: 0.4375 - lr: 0.0010\n",
      "Epoch 19/20\n",
      "32/32 [==============================] - ETA: 0s - loss: 0.7041 - accuracy: 0.5293WARNING:tensorflow:Learning rate reduction is conditioned on metric `val_acc` which is not available. Available metrics are: loss,accuracy,val_loss,val_accuracy,lr\n",
      "WARNING:tensorflow:Can save best model only with val_acc available, skipping.\n",
      "32/32 [==============================] - 24s 750ms/step - loss: 0.7041 - accuracy: 0.5293 - val_loss: 0.6956 - val_accuracy: 0.4375 - lr: 0.0010\n",
      "Epoch 20/20\n",
      "32/32 [==============================] - ETA: 0s - loss: 0.7054 - accuracy: 0.5215WARNING:tensorflow:Learning rate reduction is conditioned on metric `val_acc` which is not available. Available metrics are: loss,accuracy,val_loss,val_accuracy,lr\n",
      "WARNING:tensorflow:Can save best model only with val_acc available, skipping.\n",
      "32/32 [==============================] - 21s 643ms/step - loss: 0.7054 - accuracy: 0.5215 - val_loss: 0.6959 - val_accuracy: 0.4375 - lr: 0.0010\n"
     ]
    }
   ],
   "source": [
    "history = model.fit_generator(\n",
    "    train_generator.flow(X_train, y_train, batch_size=BATCH_SIZE),\n",
    "    steps_per_epoch=X_train.shape[0] / BATCH_SIZE,\n",
    "    epochs=20,\n",
    "    validation_data=(X_valid,y_valid),\n",
    "    callbacks=[learn_control, checkpoint]\n",
    ")"
   ]
  },
  {
   "cell_type": "code",
   "execution_count": 20,
   "metadata": {},
   "outputs": [
    {
     "ename": "AttributeError",
     "evalue": "'History' object has no attribute 'save'",
     "output_type": "error",
     "traceback": [
      "\u001b[1;31m---------------------------------------------------------------------------\u001b[0m",
      "\u001b[1;31mAttributeError\u001b[0m                            Traceback (most recent call last)",
      "\u001b[1;32mc:\\Users\\ShamalMustafa\\Downloads\\BreastCancer\\BreastCancer\\sample.ipynb Cell 13\u001b[0m line \u001b[0;36m1\n\u001b[1;32m----> <a href='vscode-notebook-cell:/c%3A/Users/ShamalMustafa/Downloads/BreastCancer/BreastCancer/sample.ipynb#X15sZmlsZQ%3D%3D?line=0'>1</a>\u001b[0m history\u001b[39m.\u001b[39;49msave(\u001b[39m\"\u001b[39m\u001b[39mimage_classifier_model2.h5\u001b[39m\u001b[39m\"\u001b[39m)\n",
      "\u001b[1;31mAttributeError\u001b[0m: 'History' object has no attribute 'save'"
     ]
    }
   ],
   "source": []
  },
  {
   "cell_type": "code",
   "execution_count": null,
   "metadata": {},
   "outputs": [],
   "source": []
  }
 ],
 "metadata": {
  "kernelspec": {
   "display_name": "Python 3",
   "language": "python",
   "name": "python3"
  },
  "language_info": {
   "codemirror_mode": {
    "name": "ipython",
    "version": 3
   },
   "file_extension": ".py",
   "mimetype": "text/x-python",
   "name": "python",
   "nbconvert_exporter": "python",
   "pygments_lexer": "ipython3",
   "version": "3.9.16"
  }
 },
 "nbformat": 4,
 "nbformat_minor": 2
}
